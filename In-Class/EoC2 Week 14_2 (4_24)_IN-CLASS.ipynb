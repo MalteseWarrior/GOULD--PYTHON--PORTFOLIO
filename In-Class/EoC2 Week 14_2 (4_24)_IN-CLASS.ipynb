{
 "cells": [
  {
   "cell_type": "markdown",
   "metadata": {
    "id": "jAyA70ym3q5w"
   },
   "source": [
    "# Text Classification with Sentence Embeddings & Logistic Regression\n",
    "\n",
    "In this notebook, we’ll walk step-by-step through building a movie-review classifier on the Rotten Tomatoes dataset using pretrained sentence embeddings and scikit-learn’s Logistic Regression. We’ll cover:\n",
    "\n",
    "1. **Environment Setup** – install and import libraries.  \n",
    "2. **Load & Inspect Data** – load the Rotten Tomatoes reviews and take a first look.  \n",
    "3. **Generate Embeddings** – encode each review into a fixed-size vector via sentence-transformers.  \n",
    "4. **Train/Test Split** – partition our data for training and evaluation.  \n",
    "5. **Train Classifier** – fit a Logistic Regression model on embedding features.  \n",
    "6. **Evaluate Performance** – compute accuracy, confusion matrix, and classification report.  \n",
    "7. **Predicting New Texts** – create new reviews and predict their \"freshness/rottenness\""
   ]
  },
  {
   "cell_type": "markdown",
   "metadata": {
    "id": "_nNnDm8h3u12"
   },
   "source": [
    "## **Step 1: Environment Setup**\n",
    "\n",
    "First, install the required libraries (`sentence-transformers` for embeddings, `datasets` for loading our data) and import everything we need."
   ]
  },
  {
   "cell_type": "code",
   "execution_count": null,
   "metadata": {
    "id": "oDSyICy_Olz4"
   },
   "outputs": [],
   "source": [
    "# Install sentence-transformers for easy embeddings\n",
    "\n",
    "# Install the Hugging Face datasets library to load Rotten Tomatoes reviews\n"
   ]
  },
  {
   "cell_type": "markdown",
   "metadata": {
    "id": "50Js8z6h322y"
   },
   "source": [
    "## **Step 2: Load & Inspect Data**\n",
    "We’ll load the [Cornell Movie Review “Rotten Tomatoes” dataset](https://huggingface.co/datasets/cornell-movie-review-data/rotten_tomatoes) (just the training split for sample size purposes) and convert it to a pandas DataFrame for easy inspection.\n",
    "- `label = 1` means \"fresh\"\n",
    "- `label = 0` means \"rotten\""
   ]
  },
  {
   "cell_type": "code",
   "execution_count": 3,
   "metadata": {
    "id": "6A-_5xvyZt3p"
   },
   "outputs": [
    {
     "data": {
      "application/vnd.microsoft.datawrangler.viewer.v0+json": {
       "columns": [
        {
         "name": "index",
         "rawType": "int64",
         "type": "integer"
        },
        {
         "name": "text",
         "rawType": "object",
         "type": "string"
        },
        {
         "name": "label",
         "rawType": "int64",
         "type": "integer"
        }
       ],
       "conversionMethod": "pd.DataFrame",
       "ref": "828ede73-2c8d-48de-9773-874bbc831b9b",
       "rows": [
        [
         "0",
         "the rock is destined to be the 21st century's new \" conan \" and that he's going to make a splash even greater than arnold schwarzenegger , jean-claud van damme or steven segal .",
         "1"
        ],
        [
         "1",
         "the gorgeously elaborate continuation of \" the lord of the rings \" trilogy is so huge that a column of words cannot adequately describe co-writer/director peter jackson's expanded vision of j . r . r . tolkien's middle-earth .",
         "1"
        ],
        [
         "2",
         "effective but too-tepid biopic",
         "1"
        ],
        [
         "3",
         "if you sometimes like to go to the movies to have fun , wasabi is a good place to start .",
         "1"
        ],
        [
         "4",
         "emerges as something rare , an issue movie that's so honest and keenly observed that it doesn't feel like one .",
         "1"
        ],
        [
         "5",
         "the film provides some great insight into the neurotic mindset of all comics -- even those who have reached the absolute top of the game .",
         "1"
        ],
        [
         "6",
         "offers that rare combination of entertainment and education .",
         "1"
        ],
        [
         "7",
         "perhaps no picture ever made has more literally showed that the road to hell is paved with good intentions .",
         "1"
        ],
        [
         "8",
         "steers turns in a snappy screenplay that curls at the edges ; it's so clever you want to hate it . but he somehow pulls it off .",
         "1"
        ],
        [
         "9",
         "take care of my cat offers a refreshingly different slice of asian cinema .",
         "1"
        ],
        [
         "10",
         "this is a film well worth seeing , talking and singing heads and all .",
         "1"
        ],
        [
         "11",
         "what really surprises about wisegirls is its low-key quality and genuine tenderness .",
         "1"
        ],
        [
         "12",
         "( wendigo is ) why we go to the cinema : to be fed through the eye , the heart , the mind .",
         "1"
        ],
        [
         "13",
         "one of the greatest family-oriented , fantasy-adventure movies ever .",
         "1"
        ],
        [
         "14",
         "ultimately , it ponders the reasons we need stories so much .",
         "1"
        ],
        [
         "15",
         "an utterly compelling 'who wrote it' in which the reputation of the most famous author who ever lived comes into question .",
         "1"
        ],
        [
         "16",
         "illuminating if overly talky documentary .",
         "1"
        ],
        [
         "17",
         "a masterpiece four years in the making .",
         "1"
        ],
        [
         "18",
         "the movie's ripe , enrapturing beauty will tempt those willing to probe its inscrutable mysteries .",
         "1"
        ],
        [
         "19",
         "offers a breath of the fresh air of true sophistication .",
         "1"
        ],
        [
         "20",
         "a thoughtful , provocative , insistently humanizing film .",
         "1"
        ],
        [
         "21",
         "with a cast that includes some of the top actors working in independent film , lovely & amazing involves us because it is so incisive , so bleakly amusing about how we go about our lives .",
         "1"
        ],
        [
         "22",
         "a disturbing and frighteningly evocative assembly of imagery and hypnotic music composed by philip glass .",
         "1"
        ],
        [
         "23",
         "not for everyone , but for those with whom it will connect , it's a nice departure from standard moviegoing fare .",
         "1"
        ],
        [
         "24",
         "scores a few points for doing what it does with a dedicated and good-hearted professionalism .",
         "1"
        ],
        [
         "25",
         "occasionally melodramatic , it's also extremely effective .",
         "1"
        ],
        [
         "26",
         "spiderman rocks",
         "1"
        ],
        [
         "27",
         "an idealistic love story that brings out the latent 15-year-old romantic in everyone .",
         "1"
        ],
        [
         "28",
         "at about 95 minutes , treasure planet maintains a brisk pace as it races through the familiar story . however , it lacks grandeur and that epic quality often associated with stevenson's tale as well as with earlier disney efforts .",
         "1"
        ],
        [
         "29",
         "it helps that lil bow wow . . . tones down his pint-sized gangsta act to play someone who resembles a real kid .",
         "1"
        ],
        [
         "30",
         "guaranteed to move anyone who ever shook , rattled , or rolled .",
         "1"
        ],
        [
         "31",
         "a masterful film from a master filmmaker , unique in its deceptive grimness , compelling in its fatalist worldview .",
         "1"
        ],
        [
         "32",
         "light , cute and forgettable .",
         "1"
        ],
        [
         "33",
         "if there's a way to effectively teach kids about the dangers of drugs , i think it's in projects like the ( unfortunately r-rated ) paid .",
         "1"
        ],
        [
         "34",
         "while it would be easy to give crush the new title of two weddings and a funeral , it's a far more thoughtful film than any slice of hugh grant whimsy .",
         "1"
        ],
        [
         "35",
         "though everything might be literate and smart , it never took off and always seemed static .",
         "1"
        ],
        [
         "36",
         "cantet perfectly captures the hotel lobbies , two-lane highways , and roadside cafes that permeate vincent's days",
         "1"
        ],
        [
         "37",
         "ms . fulford-wierzbicki is almost spooky in her sulky , calculating lolita turn .",
         "1"
        ],
        [
         "38",
         "though it is by no means his best work , laissez-passer is a distinguished and distinctive effort by a bona-fide master , a fascinating film replete with rewards to be had by all willing to make the effort to reap them .",
         "1"
        ],
        [
         "39",
         "like most bond outings in recent years , some of the stunts are so outlandish that they border on being cartoonlike . a heavy reliance on cgi technology is beginning to creep into the series .",
         "1"
        ],
        [
         "40",
         "newton draws our attention like a magnet , and acts circles around her better known co-star , mark wahlberg .",
         "1"
        ],
        [
         "41",
         "the story loses its bite in a last-minute happy ending that's even less plausible than the rest of the picture . much of the way , though , this is a refreshingly novel ride .",
         "1"
        ],
        [
         "42",
         "fuller would surely have called this gutsy and at times exhilarating movie a great yarn .",
         "1"
        ],
        [
         "43",
         "'compleja e intelectualmente retadora , el ladrón de orquídeas es uno de esos filmes que vale la pena ver precisamente por su originalidad . '",
         "1"
        ],
        [
         "44",
         "the film makes a strong case for the importance of the musicians in creating the motown sound .",
         "1"
        ],
        [
         "45",
         "karmen moves like rhythm itself , her lips chanting to the beat , her long , braided hair doing little to wipe away the jeweled beads of sweat .",
         "1"
        ],
        [
         "46",
         "gosling provides an amazing performance that dwarfs everything else in the film .",
         "1"
        ],
        [
         "47",
         "a real movie , about real people , that gives us a rare glimpse into a culture most of us don't know .",
         "1"
        ],
        [
         "48",
         "tender yet lacerating and darkly funny fable .",
         "1"
        ],
        [
         "49",
         "may be spoofing an easy target -- those old '50's giant creature features -- but . . . it acknowledges and celebrates their cheesiness as the reason why people get a kick out of watching them today .",
         "1"
        ]
       ],
       "shape": {
        "columns": 2,
        "rows": 8530
       }
      },
      "text/html": [
       "<div>\n",
       "<style scoped>\n",
       "    .dataframe tbody tr th:only-of-type {\n",
       "        vertical-align: middle;\n",
       "    }\n",
       "\n",
       "    .dataframe tbody tr th {\n",
       "        vertical-align: top;\n",
       "    }\n",
       "\n",
       "    .dataframe thead th {\n",
       "        text-align: right;\n",
       "    }\n",
       "</style>\n",
       "<table border=\"1\" class=\"dataframe\">\n",
       "  <thead>\n",
       "    <tr style=\"text-align: right;\">\n",
       "      <th></th>\n",
       "      <th>text</th>\n",
       "      <th>label</th>\n",
       "    </tr>\n",
       "  </thead>\n",
       "  <tbody>\n",
       "    <tr>\n",
       "      <th>0</th>\n",
       "      <td>the rock is destined to be the 21st century's ...</td>\n",
       "      <td>1</td>\n",
       "    </tr>\n",
       "    <tr>\n",
       "      <th>1</th>\n",
       "      <td>the gorgeously elaborate continuation of \" the...</td>\n",
       "      <td>1</td>\n",
       "    </tr>\n",
       "    <tr>\n",
       "      <th>2</th>\n",
       "      <td>effective but too-tepid biopic</td>\n",
       "      <td>1</td>\n",
       "    </tr>\n",
       "    <tr>\n",
       "      <th>3</th>\n",
       "      <td>if you sometimes like to go to the movies to h...</td>\n",
       "      <td>1</td>\n",
       "    </tr>\n",
       "    <tr>\n",
       "      <th>4</th>\n",
       "      <td>emerges as something rare , an issue movie tha...</td>\n",
       "      <td>1</td>\n",
       "    </tr>\n",
       "    <tr>\n",
       "      <th>...</th>\n",
       "      <td>...</td>\n",
       "      <td>...</td>\n",
       "    </tr>\n",
       "    <tr>\n",
       "      <th>8525</th>\n",
       "      <td>any enjoyment will be hinge from a personal th...</td>\n",
       "      <td>0</td>\n",
       "    </tr>\n",
       "    <tr>\n",
       "      <th>8526</th>\n",
       "      <td>if legendary shlockmeister ed wood had ever ma...</td>\n",
       "      <td>0</td>\n",
       "    </tr>\n",
       "    <tr>\n",
       "      <th>8527</th>\n",
       "      <td>hardly a nuanced portrait of a young woman's b...</td>\n",
       "      <td>0</td>\n",
       "    </tr>\n",
       "    <tr>\n",
       "      <th>8528</th>\n",
       "      <td>interminably bleak , to say nothing of boring .</td>\n",
       "      <td>0</td>\n",
       "    </tr>\n",
       "    <tr>\n",
       "      <th>8529</th>\n",
       "      <td>things really get weird , though not particula...</td>\n",
       "      <td>0</td>\n",
       "    </tr>\n",
       "  </tbody>\n",
       "</table>\n",
       "<p>8530 rows × 2 columns</p>\n",
       "</div>"
      ],
      "text/plain": [
       "                                                   text  label\n",
       "0     the rock is destined to be the 21st century's ...      1\n",
       "1     the gorgeously elaborate continuation of \" the...      1\n",
       "2                        effective but too-tepid biopic      1\n",
       "3     if you sometimes like to go to the movies to h...      1\n",
       "4     emerges as something rare , an issue movie tha...      1\n",
       "...                                                 ...    ...\n",
       "8525  any enjoyment will be hinge from a personal th...      0\n",
       "8526  if legendary shlockmeister ed wood had ever ma...      0\n",
       "8527  hardly a nuanced portrait of a young woman's b...      0\n",
       "8528    interminably bleak , to say nothing of boring .      0\n",
       "8529  things really get weird , though not particula...      0\n",
       "\n",
       "[8530 rows x 2 columns]"
      ]
     },
     "execution_count": 3,
     "metadata": {},
     "output_type": "execute_result"
    }
   ],
   "source": [
    "import numpy as np\n",
    "import pandas as pd\n",
    "from datasets import load_dataset\n",
    "# Load the Rotten Tomatoes dataset\n",
    "dataset = load_dataset(\"cornell-movie-review-data/rotten_tomatoes\", split=\"train\")\n",
    "df = dataset.to_pandas()\n",
    "df"
   ]
  },
  {
   "cell_type": "code",
   "execution_count": 5,
   "metadata": {
    "id": "HZNJJf9S4HKn"
   },
   "outputs": [
    {
     "data": {
      "text/plain": [
       "label\n",
       "1    4265\n",
       "0    4265\n",
       "Name: count, dtype: int64"
      ]
     },
     "execution_count": 5,
     "metadata": {},
     "output_type": "execute_result"
    }
   ],
   "source": [
    "# Check class distribution to ensure balance\n",
    "df[\"label\"].value_counts()"
   ]
  },
  {
   "cell_type": "markdown",
   "metadata": {
    "id": "Jjpexoxf4T2e"
   },
   "source": [
    "## **Step 3: Generate Sentence Embeddings**\n",
    "We use the [`SentenceTransformer` wrapper](https://huggingface.co/sentence-transformers), which exposes a simple `.encode()` method. It returns an (n_samples × embedding_dim) NumPy array."
   ]
  },
  {
   "cell_type": "code",
   "execution_count": 9,
   "metadata": {
    "id": "vHAibjI1OtXx"
   },
   "outputs": [
    {
     "data": {
      "application/vnd.jupyter.widget-view+json": {
       "model_id": "b1e633922ccf44e2bc81272b4b5170ef",
       "version_major": 2,
       "version_minor": 0
      },
      "text/plain": [
       "Batches:   0%|          | 0/267 [00:00<?, ?it/s]"
      ]
     },
     "metadata": {},
     "output_type": "display_data"
    },
    {
     "data": {
      "text/plain": [
       "(8530, 384)"
      ]
     },
     "execution_count": 9,
     "metadata": {},
     "output_type": "execute_result"
    }
   ],
   "source": [
    "# sentence-transformers for pretrained encoder\n",
    "from sentence_transformers import SentenceTransformer\n",
    "\n",
    "# Instantiate the pretrained embedding model\n",
    "model_name = \"all-MiniLM-L6-v2\"\n",
    "embedder = SentenceTransformer(model_name)\n",
    "\n",
    "# Encode all review texts to embeddings\n",
    "# convert_to_numpy=True returns a NumPy array\n",
    "# show_progress_bar displays encoding progress\n",
    "\n",
    "\n",
    "X_embs = embedder.encode(\n",
    "    df[\"text\"].to_list(),\n",
    "    convert_to_numpy=True,\n",
    "    show_progress_bar=True,\n",
    ")\n",
    "\n",
    "# Inspect shape: (n_reviews, embedding_dimension)\n",
    "X_embs.shape"
   ]
  },
  {
   "cell_type": "markdown",
   "metadata": {
    "id": "8sgBdoph4i5C"
   },
   "source": [
    "## **Step 4: Split into Training & Testing Sets**\n",
    "We’ll hold out 20% of our embeddings/labels for testing, using a fixed random_state for reproducibility."
   ]
  },
  {
   "cell_type": "code",
   "execution_count": null,
   "metadata": {
    "id": "mQiricbDP__8"
   },
   "outputs": [],
   "source": [
    "\n",
    "# Define features (embeddings) and target (labels)\n",
    "\n",
    "\n",
    "# Split embeddings and labels into train/test\n",
    "\n",
    "\n",
    "# Confirm sizes\n"
   ]
  },
  {
   "cell_type": "markdown",
   "metadata": {
    "id": "p8YscAB24oKi"
   },
   "source": [
    "## **Step 5: Train Logistic Regression**\n",
    "Fit a logistic regression classifier on our training set. We use the default L2 penalty and solver, and let `scikit-learn` choose sensible defaults."
   ]
  },
  {
   "cell_type": "code",
   "execution_count": null,
   "metadata": {
    "id": "HEneSS6jQwlW"
   },
   "outputs": [],
   "source": [
    "from sklearn.linear_model import LogisticRegression\n",
    "\n",
    "# Initialize the logistic regression model\n",
    "clf = LogisticRegression()\n",
    "\n",
    "# Train on embedding features\n",
    "clf.fit(X_train, y_train)"
   ]
  },
  {
   "cell_type": "markdown",
   "metadata": {
    "id": "Z3x3Dd3n5Irz"
   },
   "source": [
    "## **Step 6: Evaluate Performance**\n",
    "We’ll predict on the test set, compute overall accuracy, plot the confusion matrix, and print a detailed classification report (precision, recall, F1-score)."
   ]
  },
  {
   "cell_type": "code",
   "execution_count": null,
   "metadata": {
    "id": "r3EigvoPSG1r"
   },
   "outputs": [],
   "source": [
    "from sklearn.metrics import accuracy_score, confusion_matrix, classification_report\n",
    "import matplotlib.pyplot as plt\n",
    "import seaborn as sns\n",
    "\n",
    "# Predict on the test set\n",
    "y_pred = clf.predict(X_test)\n",
    "\n",
    "# Calculate Accuracy\n",
    "accuracy = accuracy_score(y_test, y_pred)\n",
    "print(f\"Accuracy: {accuracy:.2f}\")\n",
    "\n",
    "# Generate and plot Confusion Matrix\n",
    "cm = confusion_matrix(y_test, y_pred)\n",
    "plt.figure(figsize=(6,4))\n",
    "sns.heatmap(cm, annot=True, fmt='d', cmap='Blues')\n",
    "plt.title('Confusion Matrix')\n",
    "plt.xlabel('Predicted')\n",
    "plt.ylabel('Actual')\n",
    "plt.show()\n",
    "\n",
    "# Print Classification Report\n",
    "print(\"Classification Report:\")\n",
    "print(classification_report(y_test, y_pred))"
   ]
  },
  {
   "cell_type": "markdown",
   "metadata": {
    "id": "ZI6jGAhl5H9h"
   },
   "source": [
    "## **Step 7: Predict New Texts**\n",
    "Now that we have a trained model, let’s see how it does on user-supplied reviews. We’ll:\n",
    "\n",
    "1. Define a few custom review strings.  \n",
    "2. Encode them into embeddings.  \n",
    "3. Predict labels and class-probabilities with our logistic regressor.  \n",
    "4. Print out each review with its predicted sentiment and confidence."
   ]
  },
  {
   "cell_type": "code",
   "execution_count": null,
   "metadata": {
    "id": "pOlGAtPF5ZNG"
   },
   "outputs": [],
   "source": [
    "# 7.1 Define some new reviews to classify\n",
    "new_reviews = [\n",
    "    \"I absolutely loved this movie, the performances were stellar!\",\n",
    "    \"This was a terrible film; I wasted two hours of my life.\",\n",
    "    \"The story was okay, but the pacing felt off in the second half.\",\n",
    "    \"An underrated gem—beautiful cinematography and great score.\"\n",
    "]\n",
    "\n",
    "# 7.2 Generate embeddings for these new texts\n",
    "# (using the same embedder we initialized earlier)\n",
    "new_embs = embedder.encode(\n",
    "    new_reviews,\n",
    "    convert_to_numpy=True,\n",
    "    show_progress_bar=False\n",
    ")\n",
    "\n",
    "# 7.3 Predict labels and probabilities\n",
    "new_preds = clf.predict(new_embs)\n",
    "new_probs = clf.predict_proba(new_embs)\n",
    "\n",
    "# 7.4 Display results\n",
    "for text, pred, probs in zip(new_reviews, new_preds, new_probs):\n",
    "    # Map numeric label back to sentiment\n",
    "    label_str = \"Positive\" if pred == 1 else \"Negative\"\n",
    "    confidence = probs[pred]\n",
    "    print(f\"Review: {text!r}\")\n",
    "    print(f\" → Predicted: {label_str} (confidence = {confidence:.3f})\\n\")"
   ]
  }
 ],
 "metadata": {
  "colab": {
   "authorship_tag": "ABX9TyO1U1qs6o+DUNCSTpxN30zU",
   "provenance": [
    {
     "file_id": "1NDMtT52LqjvCw31axQ28MITFWIZOn6yf",
     "timestamp": 1745507588411
    },
    {
     "file_id": "12ozIShf_9ZGcAHxDDKNNV4GBhtrxc3SU",
     "timestamp": 1745499872965
    }
   ]
  },
  "kernelspec": {
   "display_name": "myenv",
   "language": "python",
   "name": "python3"
  },
  "language_info": {
   "codemirror_mode": {
    "name": "ipython",
    "version": 3
   },
   "file_extension": ".py",
   "mimetype": "text/x-python",
   "name": "python",
   "nbconvert_exporter": "python",
   "pygments_lexer": "ipython3",
   "version": "3.12.9"
  }
 },
 "nbformat": 4,
 "nbformat_minor": 0
}
