{
  "cells": [
    {
      "cell_type": "markdown",
      "metadata": {
        "id": "GJBs_flRovLc"
      },
      "source": [
        "## Using spaCy for NLP Tasks\n",
        "\n",
        "This notebook demonstrates how to install and use spaCy to perform various Natural Language Processing (NLP) tasks.\n",
        "\n",
        "In today’s lesson we will:\n",
        "\n",
        "- Install spaCy and download its statistical models.\n",
        "- Read and process a text file.\n",
        "- Perform Named Entity Recognition (NER) to extract entities from text.\n",
        "- Visualize entity counts.\n",
        "- Explore and customize the spaCy pipeline (including using the EntityRuler)."
      ]
    },
    {
      "cell_type": "markdown",
      "metadata": {
        "id": "Ans8WJUUj8qI"
      },
      "source": [
        "### 1. Installation\n",
        "To get started, you must install spaCy and the English language model.\n",
        "\n",
        "**Instructions:**\n",
        "\n",
        "1. Use `pip install spacy` to install the core library.\n",
        "2. Download the English model (`en_core_web_sm`) which includes the statistical model for English.\n"
      ]
    },
    {
      "cell_type": "code",
      "execution_count": null,
      "metadata": {
        "id": "s8aj7OGAkCcx"
      },
      "outputs": [],
      "source": [
        "!pip install spacy\n",
        "!python -m spacy download en_core_web_sm"
      ]
    },
    {
      "cell_type": "markdown",
      "metadata": {
        "id": "QCjfqkKMkrY-"
      },
      "source": [
        "### 2. Loading the spaCy Model\n",
        "\n",
        "Once downloaded, those models can be opened via **spacy.load('model_name')** in python. Therefore, you can verify if the models were downloaded successfully by running the following code:"
      ]
    },
    {
      "cell_type": "code",
      "execution_count": 5,
      "metadata": {
        "id": "gJr_9dXGpJ05"
      },
      "outputs": [],
      "source": [
        "import spacy\n",
        "nlp = spacy.load('en_core_web_sm')"
      ]
    },
    {
      "cell_type": "markdown",
      "metadata": {
        "id": "iFPkM3QLc9qf"
      },
      "source": [
        "### 3. Reading a Text File\n",
        "Here, we read in a text file that contains a chapter from *The Fellowship Of The Ring*. Make sure the file is in your working directory (or provide the full path).\n",
        "\n",
        "**Key Steps:**\n",
        "- Open the file using Python’s built-in `open()` function.\n",
        "- Read the content into a variable.\n",
        "- Adjust `nlp.max_length` to avoid errors when processing long texts.\n"
      ]
    },
    {
      "cell_type": "code",
      "execution_count": 7,
      "metadata": {
        "id": "f9MWj4EuNvNK"
      },
      "outputs": [],
      "source": [
        "# Define the file path (adjust this path if your file is stored elsewhere)\n",
        "lotr_script = 'The Fellowship of the Ring_Ch1.txt'\n",
        "\n",
        "# Read the file content\n",
        "with open(lotr_script, 'r', encoding='utf-8') as f:\n",
        "    text = f.read()\n",
        "\n",
        "# Adjust the maximum allowed length for the NLP model to process the full text\n",
        "nlp.max_length = len(text)\n",
        "\n",
        "# Process the text with the spaCy model\n",
        "doc = nlp(text)"
      ]
    },
    {
      "cell_type": "code",
      "execution_count": null,
      "metadata": {
        "id": "-gE-Ez1qtyIA"
      },
      "outputs": [],
      "source": [
        "# Increase the max_length to handle the large text, avoids an error\n",
        "nlp.max_length = len(text) # Sets the maximum length to the length of the text\n",
        "\n",
        "doc = nlp(text)"
      ]
    },
    {
      "cell_type": "markdown",
      "metadata": {
        "id": "exe29dKGjGir"
      },
      "source": [
        "### 4. Named Entity Recognition (NER)\n",
        "\n",
        "Named Entity Recognition identifies and classifies entities (like names of people, places, or organizations) in text.\n",
        "**What we'll do:**\n",
        "- Extract entities from the processed document.\n",
        "- Create a Pandas DataFrame that shows the entity text and its corresponding label."
      ]
    },
    {
      "cell_type": "code",
      "execution_count": 11,
      "metadata": {
        "id": "_5etHS43jL0g"
      },
      "outputs": [
        {
          "data": {
            "application/vnd.microsoft.datawrangler.viewer.v0+json": {
              "columns": [
                {
                  "name": "index",
                  "rawType": "int64",
                  "type": "integer"
                },
                {
                  "name": "text",
                  "rawType": "object",
                  "type": "string"
                },
                {
                  "name": "label",
                  "rawType": "object",
                  "type": "string"
                }
              ],
              "conversionMethod": "pd.DataFrame",
              "ref": "ef29b37b-b2d0-464f-ba55-0f60dd01461b",
              "rows": [
                [
                  "0",
                  "Chapter 1",
                  "LAW"
                ],
                [
                  "1",
                  "Party",
                  "ORG"
                ],
                [
                  "2",
                  "Bilbo Baggins",
                  "PERSON"
                ],
                [
                  "3",
                  "Bag End",
                  "ORG"
                ],
                [
                  "4",
                  "first",
                  "ORDINAL"
                ],
                [
                  "5",
                  "Hobbiton",
                  "ORG"
                ],
                [
                  "6",
                  "Bilbo",
                  "GPE"
                ],
                [
                  "7",
                  "Shire",
                  "LOC"
                ],
                [
                  "8",
                  "sixty years",
                  "DATE"
                ],
                [
                  "9",
                  "Baggins",
                  "PERSON"
                ],
                [
                  "10",
                  "fifty",
                  "CARDINAL"
                ],
                [
                  "11",
                  "ninety-nine",
                  "CARDINAL"
                ],
                [
                  "12",
                  "Baggins",
                  "PERSON"
                ],
                [
                  "13",
                  "the Sackville-Bagginses",
                  "ORG"
                ],
                [
                  "14",
                  "Bilbo",
                  "GPE"
                ],
                [
                  "15",
                  "Frodo Baggins",
                  "PERSON"
                ],
                [
                  "16",
                  "Bilbo",
                  "PERSON"
                ],
                [
                  "17",
                  "ninety-nine",
                  "CARDINAL"
                ],
                [
                  "18",
                  "Frodo",
                  "ORG"
                ],
                [
                  "19",
                  "Bag End",
                  "ORG"
                ],
                [
                  "20",
                  "Bilbo",
                  "ORG"
                ],
                [
                  "21",
                  "Frodo",
                  "ORG"
                ],
                [
                  "22",
                  "September 22nd",
                  "DATE"
                ],
                [
                  "23",
                  "Frodo",
                  "PERSON"
                ],
                [
                  "24",
                  "Bilbo",
                  "GPE"
                ],
                [
                  "25",
                  "one day",
                  "DATE"
                ],
                [
                  "26",
                  "Frodo",
                  "PERSON"
                ],
                [
                  "27",
                  "thirty-three",
                  "CARDINAL"
                ],
                [
                  "28",
                  "Twelve",
                  "CARDINAL"
                ],
                [
                  "29",
                  "more years",
                  "DATE"
                ],
                [
                  "30",
                  "Each year",
                  "DATE"
                ],
                [
                  "31",
                  "Bagginses",
                  "ORG"
                ],
                [
                  "32",
                  "Bag End",
                  "ORG"
                ],
                [
                  "33",
                  "Bilbo",
                  "PERSON"
                ],
                [
                  "34",
                  "111",
                  "CARDINAL"
                ],
                [
                  "35",
                  "130",
                  "CARDINAL"
                ],
                [
                  "36",
                  "Frodo",
                  "ORG"
                ],
                [
                  "37",
                  "thirty-three",
                  "CARDINAL"
                ],
                [
                  "38",
                  "33",
                  "DATE"
                ],
                [
                  "39",
                  "Tongues",
                  "PERSON"
                ],
                [
                  "40",
                  "Hobbiton",
                  "ORG"
                ],
                [
                  "41",
                  "Bywater",
                  "PERSON"
                ],
                [
                  "42",
                  "Shire",
                  "LOC"
                ],
                [
                  "43",
                  "Bilbo Baggins",
                  "PERSON"
                ],
                [
                  "44",
                  "Ham Gamgee",
                  "PERSON"
                ],
                [
                  "45",
                  "Bush",
                  "PERSON"
                ],
                [
                  "46",
                  "Bywater",
                  "PERSON"
                ],
                [
                  "47",
                  "Bag End",
                  "FAC"
                ],
                [
                  "48",
                  "forty years",
                  "DATE"
                ],
                [
                  "49",
                  "Holman",
                  "PERSON"
                ]
              ],
              "shape": {
                "columns": 2,
                "rows": 525
              }
            },
            "text/html": [
              "<div>\n",
              "<style scoped>\n",
              "    .dataframe tbody tr th:only-of-type {\n",
              "        vertical-align: middle;\n",
              "    }\n",
              "\n",
              "    .dataframe tbody tr th {\n",
              "        vertical-align: top;\n",
              "    }\n",
              "\n",
              "    .dataframe thead th {\n",
              "        text-align: right;\n",
              "    }\n",
              "</style>\n",
              "<table border=\"1\" class=\"dataframe\">\n",
              "  <thead>\n",
              "    <tr style=\"text-align: right;\">\n",
              "      <th></th>\n",
              "      <th>text</th>\n",
              "      <th>label</th>\n",
              "    </tr>\n",
              "  </thead>\n",
              "  <tbody>\n",
              "    <tr>\n",
              "      <th>0</th>\n",
              "      <td>Chapter 1</td>\n",
              "      <td>LAW</td>\n",
              "    </tr>\n",
              "    <tr>\n",
              "      <th>1</th>\n",
              "      <td>Party</td>\n",
              "      <td>ORG</td>\n",
              "    </tr>\n",
              "    <tr>\n",
              "      <th>2</th>\n",
              "      <td>Bilbo Baggins</td>\n",
              "      <td>PERSON</td>\n",
              "    </tr>\n",
              "    <tr>\n",
              "      <th>3</th>\n",
              "      <td>Bag End</td>\n",
              "      <td>ORG</td>\n",
              "    </tr>\n",
              "    <tr>\n",
              "      <th>4</th>\n",
              "      <td>first</td>\n",
              "      <td>ORDINAL</td>\n",
              "    </tr>\n",
              "    <tr>\n",
              "      <th>...</th>\n",
              "      <td>...</td>\n",
              "      <td>...</td>\n",
              "    </tr>\n",
              "    <tr>\n",
              "      <th>520</th>\n",
              "      <td>Shire</td>\n",
              "      <td>PERSON</td>\n",
              "    </tr>\n",
              "    <tr>\n",
              "      <th>521</th>\n",
              "      <td>Gandalf</td>\n",
              "      <td>NORP</td>\n",
              "    </tr>\n",
              "    <tr>\n",
              "      <th>522</th>\n",
              "      <td>Frodo</td>\n",
              "      <td>ORG</td>\n",
              "    </tr>\n",
              "    <tr>\n",
              "      <th>523</th>\n",
              "      <td>Frodo</td>\n",
              "      <td>ORG</td>\n",
              "    </tr>\n",
              "    <tr>\n",
              "      <th>524</th>\n",
              "      <td>evening</td>\n",
              "      <td>TIME</td>\n",
              "    </tr>\n",
              "  </tbody>\n",
              "</table>\n",
              "<p>525 rows × 2 columns</p>\n",
              "</div>"
            ],
            "text/plain": [
              "              text    label\n",
              "0        Chapter 1      LAW\n",
              "1            Party      ORG\n",
              "2    Bilbo Baggins   PERSON\n",
              "3          Bag End      ORG\n",
              "4            first  ORDINAL\n",
              "..             ...      ...\n",
              "520          Shire   PERSON\n",
              "521        Gandalf     NORP\n",
              "522          Frodo      ORG\n",
              "523          Frodo      ORG\n",
              "524        evening     TIME\n",
              "\n",
              "[525 rows x 2 columns]"
            ]
          },
          "execution_count": 11,
          "metadata": {},
          "output_type": "execute_result"
        }
      ],
      "source": [
        "import pandas as pd\n",
        "\n",
        "# Create a list to collect entity data\n",
        "entities_data = []\n",
        "\n",
        "# Extract each entity and its label from the document\n",
        "for ent in doc.ents:\n",
        "    entities_data.append({\n",
        "        \"text\" : ent.text,\n",
        "        \"label\" : ent.label_\n",
        "    })\n",
        "\n",
        "# Convert the list into a DataFrame for easier viewing\n",
        "ent_df = pd.DataFrame(entities_data)\n",
        "# Display the entities\n",
        "ent_df"
      ]
    },
    {
      "cell_type": "markdown",
      "metadata": {
        "id": "oH8kcexJU5g8"
      },
      "source": [
        "### 5. Analyzing Entity Data\n",
        "Let's examine:\n",
        "- **Text and Label Frequency:**  \n",
        "Display the most common entity texts and their labels.\n",
        "- **Entity Details:**  \n",
        "Use spaCy's built-in explanation function to understand what a specific label (e.g., \"FAC\") means."
      ]
    },
    {
      "cell_type": "code",
      "execution_count": 14,
      "metadata": {
        "id": "K0R0AmwYV_qj"
      },
      "outputs": [
        {
          "data": {
            "text/plain": [
              "'Countries, cities, states'"
            ]
          },
          "execution_count": 14,
          "metadata": {},
          "output_type": "execute_result"
        }
      ],
      "source": [
        "# Display the top 15 most common texts and labels\n",
        "ent_df['text'].value_counts()[:15]\n",
        "ent_df['label'].value_counts()[:15]\n",
        "# Explain a specific entity label\n",
        "spacy.explain(\"GPE\")"
      ]
    },
    {
      "cell_type": "code",
      "execution_count": null,
      "metadata": {
        "id": "drU2gC30_g8q"
      },
      "outputs": [],
      "source": [
        "# Display combinations of text and label counts\n"
      ]
    },
    {
      "cell_type": "code",
      "execution_count": null,
      "metadata": {
        "id": "ws6P7bHT_i0b"
      },
      "outputs": [],
      "source": [
        "# List unique labels in the dataset\n"
      ]
    },
    {
      "cell_type": "markdown",
      "metadata": {
        "id": "xHksIATSjXEF"
      },
      "source": [
        "###  6. Exploring the NLP Pipeline\n",
        "[NLP Pipeline Documentation](https://spacy.io/usage/processing-pipelines#processing)\n",
        "\n",
        "You can inspect the components of the NLP pipeline `nlp.pipeline`."
      ]
    },
    {
      "cell_type": "code",
      "execution_count": null,
      "metadata": {
        "id": "q9iiD5GBdTNu"
      },
      "outputs": [],
      "source": [
        "# Spacy's language model pipeline\n"
      ]
    },
    {
      "cell_type": "markdown",
      "metadata": {
        "id": "Gw9yYQJlWbpu"
      },
      "source": [
        "### 7. Visualizing Entities with DisplaCy\n",
        "DisplaCy is spaCy’s visualization tool for rendering entities and dependencies in Jupyter notebooks.\n"
      ]
    },
    {
      "cell_type": "code",
      "execution_count": 21,
      "metadata": {
        "id": "DafBeVakWgQl"
      },
      "outputs": [
        {
          "ename": "ImportError",
          "evalue": "cannot import name 'display' from 'IPython.core.display' (C:\\Users\\gingw\\AppData\\Roaming\\Python\\Python312\\site-packages\\IPython\\core\\display.py)",
          "output_type": "error",
          "traceback": [
            "\u001b[31m---------------------------------------------------------------------------\u001b[39m",
            "\u001b[31mImportError\u001b[39m                               Traceback (most recent call last)",
            "\u001b[36mCell\u001b[39m\u001b[36m \u001b[39m\u001b[32mIn[21]\u001b[39m\u001b[32m, line 3\u001b[39m\n\u001b[32m      1\u001b[39m \u001b[38;5;28;01mfrom\u001b[39;00m\u001b[38;5;250m \u001b[39m\u001b[34;01mspacy\u001b[39;00m\u001b[38;5;250m \u001b[39m\u001b[38;5;28;01mimport\u001b[39;00m displacy\n\u001b[32m      2\u001b[39m \u001b[38;5;28;01mimport\u001b[39;00m\u001b[38;5;250m \u001b[39m\u001b[34;01mIPython\u001b[39;00m\n\u001b[32m----> \u001b[39m\u001b[32m3\u001b[39m \u001b[38;5;28;01mfrom\u001b[39;00m\u001b[38;5;250m \u001b[39m\u001b[34;01mIPython\u001b[39;00m\u001b[34;01m.\u001b[39;00m\u001b[34;01mcore\u001b[39;00m\u001b[34;01m.\u001b[39;00m\u001b[34;01mdisplay\u001b[39;00m\u001b[38;5;250m \u001b[39m\u001b[38;5;28;01mimport\u001b[39;00m HTML, display\n\u001b[32m      5\u001b[39m \u001b[38;5;66;03m# Render entities in the processed document using DisplaCy\u001b[39;00m\n\u001b[32m      6\u001b[39m displacy.render(doc, style = \u001b[33m\"\u001b[39m\u001b[33ment\u001b[39m\u001b[33m\"\u001b[39m, jupyter = \u001b[38;5;28;01mTrue\u001b[39;00m)\n",
            "\u001b[31mImportError\u001b[39m: cannot import name 'display' from 'IPython.core.display' (C:\\Users\\gingw\\AppData\\Roaming\\Python\\Python312\\site-packages\\IPython\\core\\display.py)"
          ]
        }
      ],
      "source": [
        "from spacy import displacy\n",
        "import IPython\n",
        "from IPython.core.display import HTML, display\n",
        "\n",
        "# Render entities in the processed document using DisplaCy\n",
        "displacy.render(doc, style = \"ent\", jupyter = True)"
      ]
    },
    {
      "cell_type": "code",
      "execution_count": null,
      "metadata": {},
      "outputs": [],
      "source": [
        "from spacy import displacy\n",
        "\n",
        "# Render entities in the processed document using DisplaCy\n",
        "displacy.render(doc, style = \"ent\", jupyter = True)"
      ]
    },
    {
      "cell_type": "markdown",
      "metadata": {
        "id": "yiKdRq51h6BD"
      },
      "source": [
        "### 8. Identifying Issues in the Named Entity Recognizer\n",
        "\n",
        "Use the [Lord of the Rings Wiki](https://lotr.fandom.com/wiki/Main_Page) if you need help\n",
        "\n",
        "Example Issues: ?"
      ]
    },
    {
      "cell_type": "markdown",
      "metadata": {
        "id": "OEXt_fWGgvw-"
      },
      "source": [
        "### 9. Creating Custom Entity Recognizers with the EntityRuler\n",
        "\n",
        "Custom patterns can be added to the pipeline using spaCy's `EntityRuler`. This allows us to capture entities that might be missed by the statistical model.\n",
        "\n",
        "**Steps:**\n",
        "- Define custom entity patterns (as a list of dictionaries).\n",
        "- Check if the \"ner\" component exists and add the EntityRuler accordingly."
      ]
    },
    {
      "cell_type": "markdown",
      "metadata": {
        "id": "cLIskVAMQ29B"
      },
      "source": [
        "[EntityRuler Documentation](https://spacy.io/api/entityruler#add_patterns)"
      ]
    },
    {
      "cell_type": "code",
      "execution_count": null,
      "metadata": {
        "id": "giLScuq6KIel"
      },
      "outputs": [
        {
          "ename": "ValueError",
          "evalue": "[E007] 'entity_ruler' already exists in pipeline. Existing names: ['tok2vec', 'tagger', 'parser', 'senter', 'attribute_ruler', 'lemmatizer', 'entity_ruler', 'ner']",
          "output_type": "error",
          "traceback": [
            "\u001b[31m---------------------------------------------------------------------------\u001b[39m",
            "\u001b[31mValueError\u001b[39m                                Traceback (most recent call last)",
            "\u001b[36mCell\u001b[39m\u001b[36m \u001b[39m\u001b[32mIn[26]\u001b[39m\u001b[32m, line 12\u001b[39m\n\u001b[32m      2\u001b[39m entity_patterns = [\n\u001b[32m      3\u001b[39m     {\u001b[33m\"\u001b[39m\u001b[33mlabel\u001b[39m\u001b[33m\"\u001b[39m:\u001b[33m\"\u001b[39m\u001b[33mGPE\u001b[39m\u001b[33m\"\u001b[39m, \u001b[33m\"\u001b[39m\u001b[33mpattern\u001b[39m\u001b[33m\"\u001b[39m:\u001b[33m\"\u001b[39m\u001b[33mShire\u001b[39m\u001b[33m\"\u001b[39m},\n\u001b[32m      4\u001b[39m     {\u001b[33m\"\u001b[39m\u001b[33mlabel\u001b[39m\u001b[33m\"\u001b[39m:\u001b[33m\"\u001b[39m\u001b[33mGPE\u001b[39m\u001b[33m\"\u001b[39m,\u001b[33m\"\u001b[39m\u001b[33mpattern\u001b[39m\u001b[33m\"\u001b[39m:\u001b[33m\"\u001b[39m\u001b[33mBag End\u001b[39m\u001b[33m\"\u001b[39m},\n\u001b[32m   (...)\u001b[39m\u001b[32m      8\u001b[39m \n\u001b[32m      9\u001b[39m  ]\n\u001b[32m     11\u001b[39m \u001b[38;5;66;03m#Add EntityRuler to the pipeline\u001b[39;00m\n\u001b[32m---> \u001b[39m\u001b[32m12\u001b[39m ruler = \u001b[43mnlp\u001b[49m\u001b[43m.\u001b[49m\u001b[43madd_pipe\u001b[49m\u001b[43m(\u001b[49m\u001b[33;43m\"\u001b[39;49m\u001b[33;43mentity_ruler\u001b[39;49m\u001b[33;43m\"\u001b[39;49m\u001b[43m,\u001b[49m\u001b[43m \u001b[49m\u001b[43mbefore\u001b[49m\u001b[43m=\u001b[49m\u001b[33;43m\"\u001b[39;49m\u001b[33;43mner\u001b[39;49m\u001b[33;43m\"\u001b[39;49m\u001b[43m)\u001b[49m\n\u001b[32m     13\u001b[39m ruler.add_patterns(entity_patterns)\n\u001b[32m     15\u001b[39m \u001b[38;5;66;03m#Access the existing entity_ruler\u001b[39;00m\n\u001b[32m     16\u001b[39m \u001b[38;5;66;03m#ruler = nlp.get_pipe(\"entity_ruler\")\u001b[39;00m\n\u001b[32m     17\u001b[39m \n\u001b[32m     18\u001b[39m \u001b[38;5;66;03m#Add your custom patterns\u001b[39;00m\n\u001b[32m     19\u001b[39m \u001b[38;5;66;03m#ruler.add_patterns(entity_patterns)\u001b[39;00m\n",
            "\u001b[36mFile \u001b[39m\u001b[32mc:\\Users\\gingw\\anaconda3\\envs\\myenv\\Lib\\site-packages\\spacy\\language.py:813\u001b[39m, in \u001b[36mLanguage.add_pipe\u001b[39m\u001b[34m(self, factory_name, name, before, after, first, last, source, config, raw_config, validate)\u001b[39m\n\u001b[32m    811\u001b[39m name = name \u001b[38;5;28;01mif\u001b[39;00m name \u001b[38;5;129;01mis\u001b[39;00m \u001b[38;5;129;01mnot\u001b[39;00m \u001b[38;5;28;01mNone\u001b[39;00m \u001b[38;5;28;01melse\u001b[39;00m factory_name\n\u001b[32m    812\u001b[39m \u001b[38;5;28;01mif\u001b[39;00m name \u001b[38;5;129;01min\u001b[39;00m \u001b[38;5;28mself\u001b[39m.component_names:\n\u001b[32m--> \u001b[39m\u001b[32m813\u001b[39m     \u001b[38;5;28;01mraise\u001b[39;00m \u001b[38;5;167;01mValueError\u001b[39;00m(Errors.E007.format(name=name, opts=\u001b[38;5;28mself\u001b[39m.component_names))\n\u001b[32m    814\u001b[39m \u001b[38;5;66;03m# Overriding pipe name in the config is not supported and will be ignored.\u001b[39;00m\n\u001b[32m    815\u001b[39m \u001b[38;5;28;01mif\u001b[39;00m \u001b[33m\"\u001b[39m\u001b[33mname\u001b[39m\u001b[33m\"\u001b[39m \u001b[38;5;129;01min\u001b[39;00m config:\n",
            "\u001b[31mValueError\u001b[39m: [E007] 'entity_ruler' already exists in pipeline. Existing names: ['tok2vec', 'tagger', 'parser', 'senter', 'attribute_ruler', 'lemmatizer', 'entity_ruler', 'ner']"
          ]
        }
      ],
      "source": [
        "# Define custom entity patterns for names, locations, and other entities\n",
        "entity_patterns = [\n",
        "    {\"label\":\"GPE\", \"pattern\":\"Shire\"},\n",
        "    {\"label\":\"GPE\",\"pattern\":\"Bag End\"},\n",
        "    {\"label\":\"WIZARD\",\"pattern\":\"Gandalf\"}, # Bro what the hell with the Maiar\n",
        "    {\"label\": \"HOBBIT\", \"pattern\" : \"Biblo\"},\n",
        "    {\"label\": \"MAGIC_OBJECT\", \"parrtern\":[{\"LOWER\":\"ring\"}]}\n",
        "\n",
        " ]\n",
        "\n",
        "#Add EntityRuler to the pipeline\n",
        "#ruler = nlp.add_pipe(\"entity_ruler\", before=\"ner\")\n",
        "#ruler.add_patterns(entity_patterns)\n",
        "\n",
        "#Access the existing entity_ruler\n",
        "#ruler = nlp.get_pipe(\"entity_ruler\")\n",
        "\n",
        "#Add your custom patterns\n",
        "#ruler.add_patterns(entity_patterns)"
      ]
    },
    {
      "cell_type": "code",
      "execution_count": null,
      "metadata": {
        "id": "xZMQGkZXFv2q"
      },
      "outputs": [],
      "source": [
        "# Check if the \"ner\" pipe exists. If it does, add the EntityRuler before it.\n",
        "\n",
        "    # If entity_ruler already exists, simply add patterns to it.\n",
        "\n",
        "    # If the NER component does not exist, add both the EntityRuler and the NER component.\n",
        "\n",
        "# Check updated pipeline labels\n"
      ]
    },
    {
      "cell_type": "markdown",
      "metadata": {
        "id": "3Opw-lzPZWsU"
      },
      "source": [
        "### 10. Testing the Custom Entity Ruler\n",
        "Run a sample sentence through the updated pipeline to check if your custom patterns are recognized.\n"
      ]
    },
    {
      "cell_type": "code",
      "execution_count": null,
      "metadata": {
        "id": "2O5Ge2r3LP9u"
      },
      "outputs": [],
      "source": [
        "from spacy import displacy\n",
        "\n",
        "doc_2 = nlp(\"Gandalf went to Bilbo's house for his birthday because he was my precious which is the Ring.\")\n",
        "displacy.render(doc_2, style=\"ent\", jupyter=True)"
      ]
    },
    {
      "cell_type": "markdown",
      "metadata": {
        "id": "GPOU5FyuQ-Md"
      },
      "source": [
        "### 11. Re-Processing the Full Text\n",
        "Now that we have updated the pipeline with our custom patterns, re-run the full text to see how the recognizer performs.\n"
      ]
    },
    {
      "cell_type": "code",
      "execution_count": null,
      "metadata": {
        "id": "62RVMVg6M3DW"
      },
      "outputs": [],
      "source": [
        "# Re-process the text with the updated pipeline\n",
        "nlp.max_length = len(text)\n",
        "doc = nlp(text)\n",
        "\n",
        "displacy.render(doc, style=\"ent\", jupyter=True)"
      ]
    },
    {
      "cell_type": "markdown",
      "metadata": {
        "id": "qeVGXJYmYySk"
      },
      "source": [
        "### 12. Re-Analyzing Entity Data\n",
        "Let's again create a DataFrame from the updated document to see if our custom recognitions improved entity extraction."
      ]
    },
    {
      "cell_type": "code",
      "execution_count": null,
      "metadata": {
        "id": "Jh-a6rd-mDpO"
      },
      "outputs": [],
      "source": [
        "# Collect entities from the updated document\n",
        "entities_data = []\n",
        "for ent in doc.ents:\n",
        "    entities_data.append({\n",
        "        'text': ent.text,\n",
        "        'label': ent.label_\n",
        "    })\n",
        "\n",
        "# Convert to DataFrame and display\n",
        "ent_df = pd.DataFrame(entities_data)\n",
        "ent_df\n",
        "\n",
        "# %%\n",
        "# Show value counts for text and label combinations after the update\n",
        "print(\"Updated Text and Label Combinations (Top 20):\")\n",
        "print(ent_df[['text', 'label']].value_counts()[:20])"
      ]
    },
    {
      "cell_type": "markdown",
      "metadata": {
        "id": "uVbasK5wXAX_"
      },
      "source": [
        "### 13. Visualizing Entity Data\n",
        "Finally, we create a bar plot to visualize the top 10 most common text and label combinations.\n",
        "**Steps:**\n",
        "- Use Pandas to compute counts.\n",
        "- Plot the counts using Seaborn and Matplotlib.\n",
        "\n",
        "**Tree Map**\n",
        "- The `color` parameter is set to `label` so that each entity label gets a distinct color.\n",
        "\n",
        "- The `path` parameter defines a hierarchy where entities are grouped by their `label` first, then by `text`.\n",
        "\n",
        "- This interactive treemap allows students to easily see how different entity labels contribute to the overall counts."
      ]
    },
    {
      "cell_type": "code",
      "execution_count": null,
      "metadata": {
        "id": "8IZa1cJHlamc"
      },
      "outputs": [],
      "source": [
        "import plotly.express as px\n",
        "\n",
        "# Prepare the data for visualization: top 10 entity combinations\n",
        "top_10_ents = ent_df[['text', 'label']].value_counts().head(10).reset_index(name='counts')\n",
        "\n",
        "# Create a treemap using a hierarchical structure (first by label, then by text)\n",
        "fig = px.treemap(top_10_ents,\n",
        "                path=['label', 'text'],\n",
        "                values='counts',\n",
        "                title='Top 10 Text and Label Combinations (Treemap)',\n",
        "                color='label')\n",
        "\n",
        "fig.show()"
      ]
    }
  ],
  "metadata": {
    "colab": {
      "provenance": []
    },
    "kernelspec": {
      "display_name": "myenv",
      "language": "python",
      "name": "python3"
    },
    "language_info": {
      "codemirror_mode": {
        "name": "ipython",
        "version": 3
      },
      "file_extension": ".py",
      "mimetype": "text/x-python",
      "name": "python",
      "nbconvert_exporter": "python",
      "pygments_lexer": "ipython3",
      "version": "3.12.9"
    }
  },
  "nbformat": 4,
  "nbformat_minor": 0
}
