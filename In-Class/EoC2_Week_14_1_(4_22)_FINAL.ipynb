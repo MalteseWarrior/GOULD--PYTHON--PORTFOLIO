{
  "cells": [
    {
      "cell_type": "markdown",
      "metadata": {
        "id": "g1pDMM1K-anC"
      },
      "source": [
        "## Hugging Face API Check"
      ]
    },
    {
      "cell_type": "code",
      "execution_count": 3,
      "metadata": {
        "colab": {
          "base_uri": "https://localhost:8080/"
        },
        "id": "VY4JFY-S7xew",
        "outputId": "67add0ef-754d-4979-e8b9-8a9758d3721c"
      },
      "outputs": [
        {
          "name": "stdout",
          "output_type": "stream",
          "text": [
            "Requirement already satisfied: huggingface_hub in c:\\users\\gingw\\anaconda3\\envs\\myenv\\lib\\site-packages (0.29.2)\n",
            "Requirement already satisfied: filelock in c:\\users\\gingw\\anaconda3\\envs\\myenv\\lib\\site-packages (from huggingface_hub) (3.13.1)\n",
            "Requirement already satisfied: fsspec>=2023.5.0 in c:\\users\\gingw\\anaconda3\\envs\\myenv\\lib\\site-packages (from huggingface_hub) (2024.12.0)\n",
            "Requirement already satisfied: packaging>=20.9 in c:\\users\\gingw\\appdata\\roaming\\python\\python312\\site-packages (from huggingface_hub) (24.2)\n",
            "Requirement already satisfied: pyyaml>=5.1 in c:\\users\\gingw\\anaconda3\\envs\\myenv\\lib\\site-packages (from huggingface_hub) (6.0.2)\n",
            "Requirement already satisfied: requests in c:\\users\\gingw\\anaconda3\\envs\\myenv\\lib\\site-packages (from huggingface_hub) (2.32.3)\n",
            "Requirement already satisfied: tqdm>=4.42.1 in c:\\users\\gingw\\anaconda3\\envs\\myenv\\lib\\site-packages (from huggingface_hub) (4.67.1)\n",
            "Requirement already satisfied: typing-extensions>=3.7.4.3 in c:\\users\\gingw\\anaconda3\\envs\\myenv\\lib\\site-packages (from huggingface_hub) (4.12.2)\n",
            "Requirement already satisfied: colorama in c:\\users\\gingw\\appdata\\roaming\\python\\python312\\site-packages (from tqdm>=4.42.1->huggingface_hub) (0.4.6)\n",
            "Requirement already satisfied: charset-normalizer<4,>=2 in c:\\users\\gingw\\anaconda3\\envs\\myenv\\lib\\site-packages (from requests->huggingface_hub) (3.3.2)\n",
            "Requirement already satisfied: idna<4,>=2.5 in c:\\users\\gingw\\anaconda3\\envs\\myenv\\lib\\site-packages (from requests->huggingface_hub) (3.10)\n",
            "Requirement already satisfied: urllib3<3,>=1.21.1 in c:\\users\\gingw\\anaconda3\\envs\\myenv\\lib\\site-packages (from requests->huggingface_hub) (2.3.0)\n",
            "Requirement already satisfied: certifi>=2017.4.17 in c:\\users\\gingw\\anaconda3\\envs\\myenv\\lib\\site-packages (from requests->huggingface_hub) (2025.1.31)\n"
          ]
        }
      ],
      "source": [
        "!pip install huggingface_hub"
      ]
    },
    {
      "cell_type": "code",
      "execution_count": 4,
      "metadata": {
        "id": "gCRzJStN77v1"
      },
      "outputs": [],
      "source": [
        "import os\n",
        "from huggingface_hub import login\n",
        "\n",
        "# HF_Token = \"\"\n",
        "\n",
        "HF_TOKEN = os.getenv('HF_Token')\n"
      ]
    },
    {
      "cell_type": "code",
      "execution_count": 5,
      "metadata": {
        "colab": {
          "base_uri": "https://localhost:8080/"
        },
        "id": "byhd5XlD75TL",
        "outputId": "937eb2ab-6c24-49db-be24-a7b4c0558313"
      },
      "outputs": [
        {
          "name": "stdout",
          "output_type": "stream",
          "text": [
            "✅ Token valid! Logged in as: MalteseWarrior\n"
          ]
        }
      ],
      "source": [
        "from huggingface_hub import HfApi\n",
        "\n",
        "api = HfApi()\n",
        "\n",
        "try:\n",
        "    user_info = api.whoami(token=HF_TOKEN)  # requires valid auth\n",
        "\n",
        "    # If we get here, the token worked\n",
        "    username = user_info.get(\"name\") or user_info.get(\"user\") or \"<unknown>\"\n",
        "    print(f\"✅ Token valid! Logged in as: {username}\")\n",
        "\n",
        "except:\n",
        "    print(\"❌ Invalid or missing token!\")"
      ]
    }
  ],
  "metadata": {
    "colab": {
      "provenance": []
    },
    "kernelspec": {
      "display_name": "myenv",
      "language": "python",
      "name": "python3"
    },
    "language_info": {
      "codemirror_mode": {
        "name": "ipython",
        "version": 3
      },
      "file_extension": ".py",
      "mimetype": "text/x-python",
      "name": "python",
      "nbconvert_exporter": "python",
      "pygments_lexer": "ipython3",
      "version": "3.12.9"
    }
  },
  "nbformat": 4,
  "nbformat_minor": 0
}
